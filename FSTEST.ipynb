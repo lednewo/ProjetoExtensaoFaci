{
  "nbformat": 4,
  "nbformat_minor": 0,
  "metadata": {
    "colab": {
      "provenance": [],
      "mount_file_id": "1b_6vXvwHR8cFf9fic8UGjgx9-zLM-WgJ",
      "authorship_tag": "ABX9TyP+gaJAg+eQp+YtCkO1WliJ"
    },
    "kernelspec": {
      "name": "python3",
      "display_name": "Python 3"
    },
    "language_info": {
      "name": "python"
    }
  },
  "cells": [
    {
      "cell_type": "code",
      "execution_count": null,
      "metadata": {
        "id": "Tu98pNErQp7h",
        "colab": {
          "base_uri": "https://localhost:8080/"
        },
        "outputId": "837297ce-6c3d-458a-bda3-5354e935a0ab"
      },
      "outputs": [
        {
          "output_type": "execute_result",
          "data": {
            "text/plain": [
              "update_time {\n",
              "  seconds: 1728239021\n",
              "  nanos: 90066000\n",
              "}"
            ]
          },
          "metadata": {},
          "execution_count": 9
        }
      ],
      "source": [
        "import firebase_admin\n",
        "from firebase_admin import credentials\n",
        "from firebase_admin import firestore\n",
        "\n",
        "#Definindo as credenciais do Firebase\n",
        "# cred = credentials.Certificate(\"/content/deleteme-6b8a1-firebase-adminsdk-874pq-b4f30a9363.json\")\n",
        "\n",
        "# #Checando se a seção está online\n",
        "# if not firebase_admin._apps:\n",
        "#     firebase_admin.initialize_app(cred)\n",
        "\n",
        "#Criando o cliente\n",
        "db = firestore.client()\n",
        "\n",
        "#Exemplo de Objeto\n",
        "# obj = {\n",
        "#     'Comprador' : 'Eu',\n",
        "#     'Origem' : '',\n",
        "#     'Destino' : '',\n",
        "#     'Data' : '',\n",
        "#     'Num_animais' : ''\n",
        "# }\n",
        "\n",
        "\n",
        "#isso aqui abaixo vai pra uma função, os parâmetros serão os campos de texto do flet\n",
        "#db.collection(\"Cards\").document(\"Varíavel\").set(obj)\n",
        "\n",
        "\n"
      ]
    },
    {
      "cell_type": "code",
      "source": [
        "import json\n",
        "\n",
        "x = {\"nome\": \"Joao\",\n",
        "     \"idade\": 10,\n",
        "     \"cidade\": \"belem\"}\n",
        "\n",
        "y = json.dumps(x, indent = 4)\n",
        "\n",
        "print(y)\n",
        "\n",
        "with open(\"sample.json\", \"w\") as outfile:\n",
        "    outfile.write(y)\n",
        "\n"
      ],
      "metadata": {
        "colab": {
          "base_uri": "https://localhost:8080/"
        },
        "id": "GU3doHQMG63f",
        "outputId": "30e65aac-29a5-4357-8511-c570a51602e8"
      },
      "execution_count": null,
      "outputs": [
        {
          "output_type": "stream",
          "name": "stdout",
          "text": [
            "{\n",
            "    \"nome\": \"Joao\",\n",
            "    \"idade\": 10,\n",
            "    \"cidade\": \"belem\"\n",
            "}\n"
          ]
        }
      ]
    },
    {
      "cell_type": "code",
      "source": [
        "import json\n",
        "\n",
        "with open('/content/sample.json') as json_file:\n",
        "    data = json.load(json_file)\n",
        "\n",
        "print(data)"
      ],
      "metadata": {
        "colab": {
          "base_uri": "https://localhost:8080/"
        },
        "id": "VbC4Llkcwkic",
        "outputId": "c6024740-1941-4171-ec33-a4188c222cf8"
      },
      "execution_count": null,
      "outputs": [
        {
          "output_type": "stream",
          "name": "stdout",
          "text": [
            "{'nome': 'Joao', 'idade': 10, 'cidade': 'belem'}\n"
          ]
        }
      ]
    },
    {
      "cell_type": "code",
      "source": [
        "import json\n",
        "\n",
        "class Card:\n",
        "  todict = {}\n",
        "  def __init__(self, comprador, origem, destino, data, numani):\n",
        "    self.comprador = comprador\n",
        "    self.origem = origem\n",
        "    self.destino = destino\n",
        "    self.data = data\n",
        "    self.numani = numani\n",
        "\n",
        "azul = Card(\"João\", \"Belém\", \"Soure\", \"10\", \"10\")\n",
        "\n",
        "print(azul.todict)\n",
        "\n",
        "\n",
        "\n"
      ],
      "metadata": {
        "id": "FVojT7I1yCx2",
        "colab": {
          "base_uri": "https://localhost:8080/"
        },
        "outputId": "26bea57e-d5e6-4478-ffb8-b0f912bc8395"
      },
      "execution_count": null,
      "outputs": [
        {
          "output_type": "stream",
          "name": "stdout",
          "text": [
            "{}\n"
          ]
        }
      ]
    },
    {
      "cell_type": "code",
      "source": [
        "import firebase_admin\n",
        "from firebase_admin import credentials\n",
        "from firebase_admin import firestore\n",
        "import json\n",
        "import uuid\n",
        "from dataclasses import *\n",
        "\n",
        "#Definindo as credenciais do Firebase\n",
        "# cred = credentials.Certificate(\"/content/drive/MyDrive/Colab Notebooks/deleteme-6b8a1-firebase-adminsdk-874pq-b7a19ef489.json\")\n",
        "\n",
        "#Checando se a seção está online\n",
        "if not firebase_admin._apps:\n",
        "    firebase_admin.initialize_app(cred)\n",
        "\n",
        "#Criando o cliente\n",
        "db = firestore.client()\n",
        "\n",
        "Cards = [{\n",
        "     'Comprador' : 'Eu',\n",
        "     'Origem' : '',\n",
        "     'Destino' : '',\n",
        "     'Data' : '',\n",
        "     'Num_animais' : '',\n",
        "     'ID': str(uuid.uuid4())\n",
        "}]\n",
        "\n",
        "Cards.append({\"Comprador\": \"Nulo\", \"ID\": str(uuid.uuid4())})\n",
        "\n",
        "#ADICIONAR LISTA PARA JSON\n",
        "\n",
        "def jsonAdicionarLista(lista: list):\n",
        "  jsonDicionarios = json.dumps(lista, indent = 4)\n",
        "  #print(jsonDicionarios)\n",
        "  return jsonDicionarios\n",
        "\n",
        "# ADICIONAR JSON PARA FIREBASE\n",
        "\n",
        "def fbAdicionarJson(jsonCards: json):\n",
        "  jsonLista = json.loads(jsonCards)\n",
        "  for index, dicionario in enumerate(jsonLista):\n",
        "    db.collection(\"Cards\").document(dicionario.get('ID')).set(jsonLista[index])\n",
        "\n",
        "# BAIXAR DO FIREBASE PARA JSON\n",
        "\n",
        "def jsonBaixarFB():\n",
        "  teste = []\n",
        "  campos_desejados = ['Comprador', 'Origem', 'Destino', 'Data', 'Num_animais', 'ID']\n",
        "  for doc in db.collection(\"Cards\").stream():\n",
        "      dados_ordenados = {campo: doc.to_dict().get(campo) for campo in campos_desejados if campo in doc.to_dict()}\n",
        "      teste.append(dados_ordenados)\n",
        "  return json.dumps(teste, indent = 4)\n",
        "\n",
        "# ADICIONAR JSON PARA LISTA\n",
        "\n",
        "\n",
        "\n",
        "# testi = jsonBaixarFB()\n",
        "# print(testi)\n",
        "# for doc in db.collection(\"Cards\").stream():\n",
        "#     for campo in campos_desejados:\n",
        "#         if campo in doc.to_dict():\n",
        "#           print(f'{campo}: {doc.to_dict()[campo]}, ', end='')\n",
        "\n",
        "# teste = jsonAdicionarLista(Cards)\n",
        "# print(teste)\n",
        "# fbAdicionarJson(teste)\n",
        "\n",
        "\n",
        "#alterar\n",
        "\n",
        "#excluir\n",
        "\n",
        "##JSON\n",
        "\n",
        "#criar\n",
        "\n",
        "#alterar\n",
        "\n",
        "#excluir\n",
        "\n",
        "##CHECK ONLINE-OFFLINE\n",
        "\n",
        "\n",
        "###recursivo\n",
        "\n",
        "\n",
        "\n",
        "\n",
        "\n",
        "\n",
        "\n",
        "\n",
        "\n",
        "\n"
      ],
      "metadata": {
        "id": "Yk3-oNm0YVtk",
        "colab": {
          "base_uri": "https://localhost:8080/"
        },
        "outputId": "a06f9647-9c99-4fcd-a3f9-7d131d91249d"
      },
      "execution_count": null,
      "outputs": [
        {
          "output_type": "stream",
          "name": "stdout",
          "text": [
            "[\n",
            "    {\n",
            "        \"Comprador\": \"Nulo\",\n",
            "        \"ID\": \"0fb5c1a3-643e-49da-b90f-5e61115b833c\"\n",
            "    },\n",
            "    {\n",
            "        \"Comprador\": \"Eu\",\n",
            "        \"Origem\": \"\",\n",
            "        \"Destino\": \"\",\n",
            "        \"Data\": \"\",\n",
            "        \"Num_animais\": \"\",\n",
            "        \"ID\": \"139561f4-4877-4b50-8a72-0f77919df18c\"\n",
            "    }\n",
            "]\n"
          ]
        }
      ]
    },
    {
      "cell_type": "code",
      "source": [],
      "metadata": {
        "id": "Bm2CFLiqH8fp"
      },
      "execution_count": null,
      "outputs": []
    },
    {
      "cell_type": "code",
      "source": [
        "import uuid\n",
        "\n",
        "obj = [{\n",
        "     'Comprador' : 'Eu',\n",
        "     'Origem' : '',\n",
        "     'Destino' : '',\n",
        "     'Data' : '',\n",
        "     'Num_animais' : '',\n",
        "     'ID': uuid.uuid4()\n",
        "}]\n",
        "\n",
        "obj.append({\"Comprador\": \"Nulo\", \"ID\": uuid.uuid4()})\n",
        "\n",
        "\n",
        "for i in obj:\n",
        "  print(f\"{i.get('ID')}\")\n",
        "\n",
        "for d, i in enumerate(obj):\n",
        "  print(f\"{obj[d]}\")\n"
      ],
      "metadata": {
        "id": "SXyVS5EE6IFd",
        "colab": {
          "base_uri": "https://localhost:8080/"
        },
        "outputId": "c16328de-3518-49b0-a15c-2ecdf1eb9944"
      },
      "execution_count": null,
      "outputs": [
        {
          "output_type": "stream",
          "name": "stdout",
          "text": [
            "5300c88c-6d75-4d20-b4c1-36368d12f7ef\n",
            "4ff072b7-bd22-49a0-b335-dadf8ffb2f40\n",
            "{'Comprador': 'Eu', 'Origem': '', 'Destino': '', 'Data': '', 'Num_animais': '', 'ID': UUID('5300c88c-6d75-4d20-b4c1-36368d12f7ef')}\n",
            "{'Comprador': 'Nulo', 'ID': UUID('4ff072b7-bd22-49a0-b335-dadf8ffb2f40')}\n"
          ]
        }
      ]
    },
    {
      "cell_type": "code",
      "source": [],
      "metadata": {
        "id": "fqcxP504V1zc"
      },
      "execution_count": null,
      "outputs": []
    }
  ]
}